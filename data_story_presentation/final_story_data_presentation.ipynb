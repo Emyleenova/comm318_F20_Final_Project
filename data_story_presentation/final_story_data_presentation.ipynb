{
 "cells": [
  {
   "cell_type": "markdown",
   "metadata": {},
   "source": [
    "### Emylee Fleshman \n",
    "\n",
    "<img src=\"images/Header.jpg\" width=\"700\"/>"
   ]
  },
  {
   "cell_type": "markdown",
   "metadata": {},
   "source": [
    "### We know that the COVID-19 pandemic is increasing fatal overdose rates. "
   ]
  },
  {
   "cell_type": "markdown",
   "metadata": {},
   "source": [
    "News headlines this year have been dominated by the COVID death toll - but COVID-19 might be responsible for more deaths than we think. \n",
    "\n",
    "Preliminary data from the Centers for Disease Control (CDC) National Vital Statistics System (NVSS) show that the number of fatal drug overdoses in the US is now higher than it has ever been. The number of fatal overdoses has been trending upwards since the late 1990s, with a drastic spike in the 2010s. 2018 was the first year in the last decade in which overdose rates were, on average, lower than the previous year. However, early data for 2020 indicate that there may be another significant increase in the number of fatalities associated with drug overdose. The data provided from the NVSS is only updated through May 2020, so this analysis will only include the half of 2020 and can only indicate early trends. \n",
    "\n",
    "\n",
    "See these trends below: "
   ]
  },
  {
   "cell_type": "markdown",
   "metadata": {},
   "source": [
    "<img src=\"images/rates_over_time.png\" width=\"800\"/>"
   ]
  },
  {
   "cell_type": "markdown",
   "metadata": {},
   "source": [
    "*Data gathered from CDC NVSS '12 Month-ending Provisional Number of Drug Overdose Deaths' [[https://www.cdc.gov/nchs/nvss/vsrr/drug-overdose-data.htm]]"
   ]
  },
  {
   "cell_type": "markdown",
   "metadata": {},
   "source": [
    "This graph shows the percent of deaths caused by overdose (calculated as a percentage of all deaths by any cause) over the course of the last five years. You can see the drastic increase in overdose rates from 2015-2017, which is attributed to the growing prevalence of the extremely potent synthetic opioid, Fentanyl. After plateauing in 2017 and slightly decreasing between 2018 and 2019, you can then see a rapid increase, again, from 2019 to 2020. To see the change from 2019 to 2020 in more detail we can look at the year over year comparison, which compares the rates from January 2019 to January 2020, February 2019 to February 2020, and so on:"
   ]
  },
  {
   "cell_type": "markdown",
   "metadata": {},
   "source": [
    "<img src=\"images/month_compare.png\" width=\"800\"/>"
   ]
  },
  {
   "cell_type": "markdown",
   "metadata": {},
   "source": [
    "Further zooming into the early months of the pandemic, we can see a rapid increase from 2.45% in February to 2.48% in April. Though this change may seem modest, it indicates a significant increase in the number of lives lost to drugs. "
   ]
  },
  {
   "cell_type": "markdown",
   "metadata": {},
   "source": [
    "<img src=\"images/cov_mon.png\" width=\"800\"/>"
   ]
  },
  {
   "cell_type": "markdown",
   "metadata": {},
   "source": [
    "## What we don't know is why."
   ]
  },
  {
   "cell_type": "markdown",
   "metadata": {},
   "source": [
    "Researchers and advocates believe that the recent increase is a result of the pandemic, and in fact, headlines are quick to assert that they are related. However, we don't know *what* exactly it is about the pandemic that is driving these overdoses. One hypothesis is that folks who are struggling with addiction are feeling more isolated as a result of the stay at home order policies put in place in many states, and subsequently, are using drugs more frequently or in higher dosages. Below, I compare the overdose rates between states with \"severe\" lock downs to those with less stringent shut down policies. Severity of shut down policies was calculated based on the implementation and duration of stay at home or shelter in place orders, the duration of business closures, and the extent of businesses closed. Some states, like Michigan, had extended periods of stay at home orders, and closed nearly all non-essential businesses, including gyms, restaurants, and movie theaters while others, such as South Dakota put in no isolation-mandating policies. You can see there is a wide variation in the severity of states' lock down policies, shown on the x-axis below, as well as the overdose rates, shown on the y axis. There is a slight correlation between the two, so it is possible that increased feelings of isolation due to the pandemic could be driving drug use. "
   ]
  },
  {
   "cell_type": "markdown",
   "metadata": {},
   "source": [
    "<img src=\"images/iso_cor.png\" width=\"800\"/>"
   ]
  },
  {
   "cell_type": "markdown",
   "metadata": {},
   "source": [
    "Another factor that could be impacting folk's substance use habits is the economic instability caused by the pandemic. Studies have shown that increase in unemployment is correlated with increase in deaths by overdose and suicide, known as deaths of despair. However, there was almost no correlation between changing unemployment and death rates. Below, we look at state's unemployment and overdose rates over the course of the pandemic. The graph below shows the relationship between each state's unemployment (y-axis) and overdose rates (x-axis), across the duration of the pandemic from January (represented on the x-axis as '1.0') to May (represented as '5.0). Each point on the graph represents a state. You can see there is minimal, if any, correlation between the two."
   ]
  },
  {
   "cell_type": "markdown",
   "metadata": {},
   "source": [
    "<img src=\"images/unemploy.png\" width=\"800\"/>"
   ]
  },
  {
   "cell_type": "markdown",
   "metadata": {},
   "source": [
    "To further investigate the impact of economic factors, I analyzed state's policies that put in place financial safety nets for those affected by the pandemic. These policies included eviction stays, which prevented landlords from evicting tenants, utility shut off-freezes, and in some states, rent protections, which allowed renters to use their security deposit to pay rent. I expected that states that enacted many safety net policies would experience lower overdose rates. However, as you can see below, again, there is very little correlation between the two. Many states (represented by blue points on the graph) did not pass any policies to protect people financially, earning a score of 0. These 0-scoring states have a broad spectrum of overdose rates (shown on the x-axis) though, and further, all of the highest scoring states (400+) were in the highest half of overdose rates. Overall this indicates that these policies did not have an impact on overdose rates,"
   ]
  },
  {
   "cell_type": "markdown",
   "metadata": {},
   "source": [
    "<img src=\"images/finan_protect.png\" width=\"800\"/>"
   ]
  },
  {
   "cell_type": "markdown",
   "metadata": {},
   "source": [
    "Given the initial 2020 data, it is clear that something about the pandemic is driving, or at the very least, contributing to, increasing fatalities from drug overdose. However, this data analysis shows that there is only a slight correlation with state's social distancing policies, and almost no correlation with the state's economic status. We still don't necessarily know what it is about the pandemic that is causing this, and therefor, where public health organizations should intervene. \n",
    "\n",
    "Data regarding drug use and overdose can be difficult to access, and is often outdated. This can make it difficult to understand (and intervene on) drug use trends. "
   ]
  },
  {
   "cell_type": "code",
   "execution_count": null,
   "metadata": {},
   "outputs": [],
   "source": []
  }
 ],
 "metadata": {
  "kernelspec": {
   "display_name": "Python 3",
   "language": "python",
   "name": "python3"
  },
  "language_info": {
   "codemirror_mode": {
    "name": "ipython",
    "version": 3
   },
   "file_extension": ".py",
   "mimetype": "text/x-python",
   "name": "python",
   "nbconvert_exporter": "python",
   "pygments_lexer": "ipython3",
   "version": "3.7.3"
  }
 },
 "nbformat": 4,
 "nbformat_minor": 2
}
